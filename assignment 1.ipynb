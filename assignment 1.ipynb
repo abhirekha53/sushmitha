{
 "cells": [
  {
   "cell_type": "code",
   "execution_count": 2,
   "metadata": {},
   "outputs": [
    {
     "name": "stdout",
     "output_type": "stream",
     "text": [
      "select operation\n",
      "1.Addition\n",
      "2.subtraction\n",
      "3.Multiplication\n",
      "4.Division\n",
      "5.,Modulus\n",
      "6.exponential\n",
      "7.Floor Division\n",
      "select the value 1/2/3/4/5/6/7:2\n",
      "enter value of a : 3\n",
      "enter value of b : 4\n",
      "sub is -1.0\n"
     ]
    }
   ],
   "source": [
    "# simple calculator\n",
    "\n",
    "print('select operation')\n",
    "print('1.Addition')\n",
    "print('2.subtraction')  \n",
    "print('3.Multiplication')\n",
    "print('4.Division')\n",
    "print('5.,Modulus')\n",
    "print('6.exponential')\n",
    "print('7.Floor Division')\n",
    "select = input('select the value 1/2/3/4/5/6/7:')\n",
    "a = float(input('enter value of a : '))\n",
    "b = float(input('enter value of b : '))\n",
    "sum = a + b\n",
    "sub = a-b\n",
    "mul = a*b\n",
    "div = a/b\n",
    "mod = a%b\n",
    "exp = a**b\n",
    "flor = a//b\n",
    "if select == '1':    \n",
    "    print('sum is',sum)\n",
    "elif select == '2':   \n",
    "    print('sub is',sub)\n",
    "elif select == '3':   \n",
    "    print('mul is',mul)\n",
    "elif select == '4':    \n",
    "    print('div is',div)\n",
    "elif select == '5':   \n",
    "    print('mod is',mod)\n",
    "elif select == '6':  \n",
    "    print('exp is',exp)\n",
    "elif select == '7':   \n",
    "    print('flor is',flor)\n",
    "else :\n",
    "    print('invalid input')\n",
    "  "
   ]
  },
  {
   "cell_type": "code",
   "execution_count": 10,
   "metadata": {},
   "outputs": [
    {
     "name": "stdout",
     "output_type": "stream",
     "text": [
      "enter the principal value:4\n",
      "enter the time period:5\n",
      "enter the rate of interest:6\n",
      "simple interest 1.2\n"
     ]
    }
   ],
   "source": [
    "#simple interest\n",
    "\n",
    "p = float(input('enter the principal value:'))\n",
    "t = float(input('enter the time period:'))\n",
    "r = float(input('enter the rate of interest:'))\n",
    "si=(p*t*r)/100\n",
    "print('simple interest',si)"
   ]
  },
  {
   "cell_type": "code",
   "execution_count": 11,
   "metadata": {},
   "outputs": [
    {
     "name": "stdout",
     "output_type": "stream",
     "text": [
      "enter the value of r3\n",
      "Area of circle is: 28.259999999999998\n"
     ]
    }
   ],
   "source": [
    "#Area of circle\n",
    "\n",
    "pi=3.14\n",
    "r=float(input('enter the value of r'))\n",
    "A=pi*r*r\n",
    "print('Area of circle is:',A)"
   ]
  },
  {
   "cell_type": "code",
   "execution_count": 13,
   "metadata": {},
   "outputs": [
    {
     "name": "stdout",
     "output_type": "stream",
     "text": [
      "enter the base of triangle4\n",
      "enter the height of triangle4\n",
      "Area of triangle: 8.0\n"
     ]
    }
   ],
   "source": [
    "#Area of triangle\n",
    "\n",
    "b = float(input('enter the base of triangle'))\n",
    "h = float(input('enter the height of triangle'))\n",
    "A=0.5*b*h\n",
    "print('Area of triangle:',A)"
   ]
  },
  {
   "cell_type": "code",
   "execution_count": 19,
   "metadata": {},
   "outputs": [
    {
     "name": "stdout",
     "output_type": "stream",
     "text": [
      "temperature in farenheit: 99.5\n"
     ]
    }
   ],
   "source": [
    "# Temp in Celsius to Farenheit\n",
    "\n",
    "c = 37.5\n",
    "f = (c*1.8)+32\n",
    "print('temperature in farenheit:',f)"
   ]
  },
  {
   "cell_type": "code",
   "execution_count": 20,
   "metadata": {},
   "outputs": [
    {
     "name": "stdout",
     "output_type": "stream",
     "text": [
      "enter the length of rectangle8\n",
      "enter the breadth of reactangle6\n",
      "Area of Rectangle: 48.0\n"
     ]
    }
   ],
   "source": [
    "# Area of rectangle\n",
    "\n",
    "l = float(input('enter the length of rectangle'))\n",
    "b = float(input('enter the breadth of reactangle'))\n",
    "A= l*b\n",
    "print('Area of Rectangle:',A)"
   ]
  },
  {
   "cell_type": "code",
   "execution_count": 22,
   "metadata": {},
   "outputs": [
    {
     "name": "stdout",
     "output_type": "stream",
     "text": [
      "enter the side of a square5\n",
      "perimeter of sqaure: 20.0\n"
     ]
    }
   ],
   "source": [
    "# perimeter of Square\n",
    "\n",
    "a = float(input('enter the side of a square'))\n",
    "p = 4*a\n",
    "print('perimeter of sqaure:',p)"
   ]
  },
  {
   "cell_type": "code",
   "execution_count": 23,
   "metadata": {},
   "outputs": [
    {
     "name": "stdout",
     "output_type": "stream",
     "text": [
      "enter the radius of circle5\n",
      "circumference of a circle: 31.400000000000002\n"
     ]
    }
   ],
   "source": [
    "#circumference of circle\n",
    "\n",
    "pi = 3.14\n",
    "r = float(input('enter the radius of circle'))\n",
    "c = 2*pi*r\n",
    "print('circumference of a circle:',c)"
   ]
  },
  {
   "cell_type": "code",
   "execution_count": 26,
   "metadata": {},
   "outputs": [
    {
     "name": "stdout",
     "output_type": "stream",
     "text": [
      "enter the first number4\n",
      "enter the second number5\n",
      "number before swapping 4\n",
      "number before swapping 5\n",
      "number after swapping 5\n",
      "number after swapping 4\n"
     ]
    }
   ],
   "source": [
    "#swapping two numbers\n",
    "\n",
    "num1 = input('enter the first number')\n",
    "num2 = input('enter the second number')\n",
    "print('number before swapping',num1)\n",
    "print('number before swapping',num2)\n",
    "temp = num1\n",
    "num1 = num2\n",
    "num2 = temp\n",
    "print('number after swapping',num1)\n",
    "print('number after swapping',num2)"
   ]
  },
  {
   "cell_type": "code",
   "execution_count": null,
   "metadata": {},
   "outputs": [],
   "source": []
  }
 ],
 "metadata": {
  "kernelspec": {
   "display_name": "Python 3",
   "language": "python",
   "name": "python3"
  },
  "language_info": {
   "codemirror_mode": {
    "name": "ipython",
    "version": 3
   },
   "file_extension": ".py",
   "mimetype": "text/x-python",
   "name": "python",
   "nbconvert_exporter": "python",
   "pygments_lexer": "ipython3",
   "version": "3.6.2"
  }
 },
 "nbformat": 4,
 "nbformat_minor": 4
}
