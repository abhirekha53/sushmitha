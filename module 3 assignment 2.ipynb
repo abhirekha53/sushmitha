{
 "cells": [
  {
   "cell_type": "code",
   "execution_count": 1,
   "metadata": {},
   "outputs": [
    {
     "name": "stdout",
     "output_type": "stream",
     "text": [
      "Enter a string: sushmitha\n",
      "Length of the input string is: 9\n"
     ]
    }
   ],
   "source": [
    "# 1.calculate len of string\n",
    "\n",
    "str = input(\"Enter a string: \")\n",
    "count = 0\n",
    "for s in str:\n",
    "      count = count+1\n",
    "print(\"Length of the input string is:\", count)\n",
    "\n"
   ]
  },
  {
   "cell_type": "code",
   "execution_count": 2,
   "metadata": {},
   "outputs": [
    {
     "name": "stdout",
     "output_type": "stream",
     "text": [
      "{'s': 2, 'u': 1, 'h': 2, 'm': 1, 'i': 1, 't': 1, 'a': 1}\n"
     ]
    }
   ],
   "source": [
    "#count the number of character in a string\n",
    "\n",
    "def char_frequency(str1):\n",
    "    dict = {}\n",
    "    for n in str1:\n",
    "        keys = dict.keys()\n",
    "        if n in keys:\n",
    "            dict[n] += 1\n",
    "        else:\n",
    "            dict[n] = 1\n",
    "    return dict\n",
    "print(char_frequency('sushmitha'))\n"
   ]
  },
  {
   "cell_type": "code",
   "execution_count": 6,
   "metadata": {},
   "outputs": [
    {
     "name": "stdout",
     "output_type": "stream",
     "text": [
      "sushmitha lavanuru\n"
     ]
    }
   ],
   "source": [
    "#prgrm to get a single string from two given strings seperated by a space and swaping first two characters of each string\n",
    "\n",
    "def chars_mix_up(a, b):\n",
    "  new_a = b[:2] + a[2:]\n",
    "  new_b = a[:2] + b[2:]\n",
    "\n",
    "  return new_a + ' ' + new_b\n",
    "print(chars_mix_up('lashmitha', 'suvanuru'))"
   ]
  },
  {
   "cell_type": "code",
   "execution_count": 7,
   "metadata": {},
   "outputs": [
    {
     "name": "stdout",
     "output_type": "stream",
     "text": [
      "Where are you from?:anantapur\n",
      "I'm from  ANANTAPUR\n",
      "I'm from anantapur\n"
     ]
    }
   ],
   "source": [
    "# python script that takes input from user and displays that input back in upper and lower cases\n",
    "\n",
    "user_input = input(\"Where are you from?:\")\n",
    "print(\"I'm from \", user_input.upper())\n",
    "print(\"I'm from\", user_input.lower())\n"
   ]
  },
  {
   "cell_type": "code",
   "execution_count": 13,
   "metadata": {},
   "outputs": [
    {
     "name": "stdout",
     "output_type": "stream",
     "text": [
      "sushmitha\n",
      "\n",
      "sushmitha\n"
     ]
    }
   ],
   "source": [
    "# removing a newline in python\n",
    "\n",
    "str1='sushmitha\\n'\n",
    "print(str1)\n",
    "print(str1.rstrip())\n"
   ]
  },
  {
   "cell_type": "code",
   "execution_count": 15,
   "metadata": {},
   "outputs": [
    {
     "name": "stdout",
     "output_type": "stream",
     "text": [
      "\n",
      "1\n",
      "\n"
     ]
    }
   ],
   "source": [
    "# program to count occurences of a substring in a string\n",
    "\n",
    "str1='iam sushmitha'\n",
    "print()\n",
    "print(str1.count(\"sushmitha\"))\n",
    "print()"
   ]
  },
  {
   "cell_type": "code",
   "execution_count": 29,
   "metadata": {},
   "outputs": [
    {
     "name": "stdout",
     "output_type": "stream",
     "text": [
      "original string is:madhu\n",
      "string after removal of 'i'th character:m\n",
      "string after removal of 'i'th character:ma\n",
      "string after removal of 'i'th character:mah\n",
      "string after removal of 'i'th character:mahu\n"
     ]
    }
   ],
   "source": [
    "# converting a string in a list\n",
    "\n",
    "test_str=\"madhu\"\n",
    "print(\"original string is:\"+test_str)\n",
    "new_str=''\n",
    "for i in range(len(test_str)):\n",
    "    if i!=2:\n",
    "        new_str=new_str+test_str[i]\n",
    "        print(\"string after removal of 'i'th character:\"+new_str)\n",
    "        \n",
    "\n"
   ]
  },
  {
   "cell_type": "code",
   "execution_count": 30,
   "metadata": {},
   "outputs": [
    {
     "name": "stdout",
     "output_type": "stream",
     "text": [
      "uhmitha\n"
     ]
    }
   ],
   "source": [
    "# perform deletion of a character\n",
    "\n",
    "s = 'sushmitha'\n",
    "\n",
    "print(s.replace('s', ''))"
   ]
  },
  {
   "cell_type": "code",
   "execution_count": 31,
   "metadata": {},
   "outputs": [
    {
     "name": "stdout",
     "output_type": "stream",
     "text": [
      "enter a stringsushmitha\n",
      "The Character at 0 Index Position = s\n",
      "The Character at 1 Index Position = u\n",
      "The Character at 2 Index Position = s\n",
      "The Character at 3 Index Position = h\n",
      "The Character at 4 Index Position = m\n",
      "The Character at 5 Index Position = i\n",
      "The Character at 6 Index Position = t\n",
      "The Character at 7 Index Position = h\n",
      "The Character at 8 Index Position = a\n"
     ]
    }
   ],
   "source": [
    "# program to print every character of a string entered by user in a newline using loop\n",
    "\n",
    "str1=input('enter a string')\n",
    "for i in range(len(str1)):\n",
    "    print(\"The Character at %d Index Position = %c\" %(i, str1[i]))"
   ]
  },
  {
   "cell_type": "code",
   "execution_count": 32,
   "metadata": {},
   "outputs": [
    {
     "name": "stdout",
     "output_type": "stream",
     "text": [
      "Length of the input string is: 12\n"
     ]
    }
   ],
   "source": [
    "# program to find length of refrigerator without using le function\n",
    "\n",
    "str = \"Refrigerator\"\n",
    "count = 0\n",
    "for s in str:\n",
    "      count = count+1\n",
    "print(\"Length of the input string is:\", count)"
   ]
  },
  {
   "cell_type": "code",
   "execution_count": null,
   "metadata": {},
   "outputs": [],
   "source": []
  }
 ],
 "metadata": {
  "kernelspec": {
   "display_name": "Python 3",
   "language": "python",
   "name": "python3"
  },
  "language_info": {
   "codemirror_mode": {
    "name": "ipython",
    "version": 3
   },
   "file_extension": ".py",
   "mimetype": "text/x-python",
   "name": "python",
   "nbconvert_exporter": "python",
   "pygments_lexer": "ipython3",
   "version": "3.6.2"
  }
 },
 "nbformat": 4,
 "nbformat_minor": 4
}
